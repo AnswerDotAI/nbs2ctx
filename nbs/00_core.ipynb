{
 "cells": [
  {
   "cell_type": "markdown",
   "metadata": {},
   "source": [
    "# nbs_to_ctx\n",
    "\n",
    "> Turning Jupyter notebooks into LLM-ready context"
   ]
  },
  {
   "cell_type": "code",
   "execution_count": null,
   "metadata": {},
   "outputs": [],
   "source": [
    "#| default_exp core"
   ]
  },
  {
   "cell_type": "code",
   "execution_count": null,
   "metadata": {},
   "outputs": [],
   "source": [
    "#| hide\n",
    "from nbdev.showdoc import *"
   ]
  },
  {
   "cell_type": "code",
   "execution_count": null,
   "metadata": {},
   "outputs": [],
   "source": [
    "#|export\n",
    "import os, glob, nbformat\n",
    "from xml.sax.saxutils import escape\n",
    "from fastcore.script import call_parse, Param"
   ]
  },
  {
   "cell_type": "code",
   "execution_count": null,
   "metadata": {},
   "outputs": [],
   "source": [
    "#| export\n",
    "def find_ipynb_files(directory):\n",
    "    \"\"\"Find all .ipynb files in the directory and its subdirectories.\"\"\"\n",
    "    return glob.glob(os.path.join(directory, '**', '*.ipynb'), recursive=True)"
   ]
  },
  {
   "cell_type": "code",
   "execution_count": null,
   "metadata": {},
   "outputs": [
    {
     "data": {
      "text/plain": [
       "['./index.ipynb', './00_core.ipynb']"
      ]
     },
     "execution_count": null,
     "metadata": {},
     "output_type": "execute_result"
    }
   ],
   "source": [
    "find_ipynb_files('.')"
   ]
  },
  {
   "cell_type": "code",
   "execution_count": null,
   "metadata": {},
   "outputs": [],
   "source": [
    "#| export\n",
    "def render_notebook_to_markdown(nb_path):\n",
    "    \"\"\"Convert a Jupyter notebook to markdown, including markdown cells, code cells, and limited text outputs.\"\"\"\n",
    "    # Read the notebook file\n",
    "    nb = nbformat.read(nb_path, as_version=4)\n",
    "    # Get the programming language from metadata, default to 'python'\n",
    "    language = nb.metadata.get('kernelspec', {}).get('language', 'python')\n",
    "    content = []\n",
    "\n",
    "    # Process each cell in the notebook\n",
    "    for cell in nb.cells:\n",
    "        if cell.cell_type == 'markdown':\n",
    "            # Include markdown cell content as is\n",
    "            content.append(''.join(cell.source))\n",
    "        elif cell.cell_type == 'code':\n",
    "            # Include code cell content in a markdown code block\n",
    "            code = ''.join(cell.source)\n",
    "            content.append(f\"```{language}\\n{code}\\n```\")\n",
    "            # Process text-based outputs, ignoring large or non-text outputs\n",
    "            outputs = []\n",
    "            for output in cell.outputs:\n",
    "                if output.output_type == 'stream':\n",
    "                    # Stream outputs (e.g., stdout/stderr)\n",
    "                    text = ''.join(output.text)\n",
    "                    outputs.append(text[:200] + (' ... (truncated)' if len(text) > 200 else ''))\n",
    "                elif output.output_type in ['execute_result', 'display_data']:\n",
    "                    # Results or displayed data with plain text\n",
    "                    if 'text/plain' in output.data:\n",
    "                        text = ''.join(output.data['text/plain'])\n",
    "                        outputs.append(text[:200] + (' ... (truncated)' if len(text) > 200 else ''))\n",
    "            if outputs:\n",
    "                content.append(\"**Outputs:**\\n\" + '\\n'.join(outputs))\n",
    "    \n",
    "    # Join cell contents with double newlines for separation\n",
    "    return '\\n\\n'.join(content)"
   ]
  },
  {
   "cell_type": "code",
   "execution_count": null,
   "metadata": {},
   "outputs": [
    {
     "data": {
      "text/plain": [
       "'```python\\n#| hide\\nfrom nbs2ctx.core import *\\n```\\n\\n'"
      ]
     },
     "execution_count": null,
     "metadata": {},
     "output_type": "execute_result"
    }
   ],
   "source": [
    "render_notebook_to_markdown('./index.ipynb')[:50]"
   ]
  },
  {
   "cell_type": "code",
   "execution_count": null,
   "metadata": {},
   "outputs": [],
   "source": [
    "#| export\n",
    "def generate_xml(directory):\n",
    "    \"\"\"Generate an XML string containing markdown-rendered content from all notebooks.\"\"\"\n",
    "    ipynb_files = sorted(find_ipynb_files(directory))\n",
    "    documents = []\n",
    "    \n",
    "    # Process each notebook file\n",
    "    for index, file in enumerate(ipynb_files, start=1):\n",
    "        rendered = render_notebook_to_markdown(file)\n",
    "        # Use relative path from the input directory as the source\n",
    "        source = os.path.relpath(file, directory)\n",
    "        # Escape content for XML compatibility\n",
    "        escaped_content = escape(rendered)\n",
    "        # Build the document XML structure\n",
    "        documents.append(\n",
    "            f'<document index=\"{index}\">\\n'\n",
    "            f'<source>{source}</source>\\n'\n",
    "            f'<document_content>\\n{escaped_content}\\n</document_content>\\n'\n",
    "            f'</document>'\n",
    "        )\n",
    "    \n",
    "    # Wrap all documents in the root <documents> tag\n",
    "    return '<documents>\\n' + '\\n'.join(documents) + '\\n</documents>'"
   ]
  },
  {
   "cell_type": "code",
   "execution_count": null,
   "metadata": {},
   "outputs": [
    {
     "data": {
      "text/plain": [
       "'<documents>\\n<document index=\"1\">\\n<source>00_core.ipynb</source>\\n<document_content>\\n# nbs_to_ctx\\n\\n&gt; Turning Jupyter notebooks into LLM-ready context'"
      ]
     },
     "execution_count": null,
     "metadata": {},
     "output_type": "execute_result"
    }
   ],
   "source": [
    "generate_xml('.')[:150]"
   ]
  },
  {
   "cell_type": "code",
   "execution_count": null,
   "metadata": {},
   "outputs": [],
   "source": [
    "#|export\n",
    "@call_parse\n",
    "def main(\n",
    "    directory: Param(help='Directory containing .ipynb files'),\n",
    "    output:   Param(help='Output XML file')\n",
    "):\n",
    "    \"Convert .ipynb files to XML for LLMs\"\n",
    "    xml_content = generate_xml(directory)\n",
    "    with open(output, 'w', encoding='utf-8') as f:\n",
    "        f.write(xml_content)"
   ]
  },
  {
   "cell_type": "code",
   "execution_count": null,
   "metadata": {},
   "outputs": [],
   "source": [
    "#| hide\n",
    "import nbdev; nbdev.nbdev_export()"
   ]
  }
 ],
 "metadata": {
  "kernelspec": {
   "display_name": "python3",
   "language": "python",
   "name": "python3"
  }
 },
 "nbformat": 4,
 "nbformat_minor": 4
}
