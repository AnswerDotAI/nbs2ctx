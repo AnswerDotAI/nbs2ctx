{
 "cells": [
  {
   "cell_type": "code",
   "execution_count": null,
   "metadata": {},
   "outputs": [],
   "source": [
    "#| hide\n",
    "from nbs2ctx.core import *"
   ]
  },
  {
   "cell_type": "markdown",
   "metadata": {},
   "source": [
    "# nbs2ctx\n",
    "\n",
    "> Turning Jupyter notebooks into LLM-useable context"
   ]
  },
  {
   "cell_type": "markdown",
   "metadata": {},
   "source": [
    "## Usage"
   ]
  },
  {
   "cell_type": "markdown",
   "metadata": {},
   "source": [
    "nbs2ctx is a minimal CLI for turning a directory of notebooks (e.g. an NBDev project) into context for an LLM. For example, from the root dir of this github repo we could run:\n",
    "\n",
    "`nbs_to_ctx nbs ctx.xml`\n",
    "\n",
    "This will create a file ctx.xml with the contents of all the notebooks in the nbs folder.\n",
    "\n",
    "```\n",
    "<documents>\n",
    "<document index=\"1\">\n",
    "<source>00_core.ipynb</source>\n",
    "<document_content>\n",
    "# nbs_to_ctx\n",
    "\n",
    "&gt; Turning Jupyter notebooks into LLM-ready context\n",
    "\n",
    "```python\n",
    "#| default_exp core\n",
    "... and so on, with the full contents of the notebook\n",
    "```"
   ]
  },
  {
   "cell_type": "markdown",
   "metadata": {},
   "source": [
    "### Installation"
   ]
  },
  {
   "cell_type": "markdown",
   "metadata": {},
   "source": [
    "Install latest from the GitHub [repository][repo]:\n",
    "\n",
    "```sh\n",
    "$ pip install git+https://github.com/AnswerDotAI/nbs2ctx.git\n",
    "```\n",
    "\n",
    "or from [pypi][pypi]\n",
    "\n",
    "\n",
    "```sh\n",
    "$ pip install nbs2ctx\n",
    "```\n",
    "\n",
    "\n",
    "[repo]: https://github.com/AnswerDotAI/nbs2ctx\n",
    "[docs]: https://AnswerDotAI.github.io/nbs2ctx/\n",
    "[pypi]: https://pypi.org/project/nbs2ctx/"
   ]
  }
 ],
 "metadata": {
  "kernelspec": {
   "display_name": "python3",
   "language": "python",
   "name": "python3"
  }
 },
 "nbformat": 4,
 "nbformat_minor": 4
}
